{
 "cells": [
  {
   "cell_type": "code",
   "execution_count": 0,
   "metadata": {
    "application/vnd.databricks.v1+cell": {
     "cellMetadata": {},
     "inputWidgets": {},
     "nuid": "22fc5d59-26b6-41cc-9718-728c0f14dc73",
     "showTitle": false,
     "tableResultSettingsMap": {},
     "title": ""
    }
   },
   "outputs": [],
   "source": [
    "-- Create and populate the target table.\n",
    "CREATE OR REFRESH STREAMING TABLE naval_silver.product_silver;\n",
    "\n",
    "APPLY CHANGES INTO\n",
    "  naval_silver.product_silver\n",
    "FROM\n",
    "  stream(naval_bronze.product_pipeline)\n",
    "KEYS\n",
    "  (product_id)\n",
    "APPLY AS DELETE WHEN\n",
    "  operation = \"DELETE\"\n",
    "SEQUENCE BY\n",
    "  seqNum\n",
    "COLUMNS * EXCEPT\n",
    "  (operation, seqNum,_rescued_data,ingestion_date)\n",
    "STORED AS\n",
    "  SCD TYPE 1;\n",
    "\n",
    "-- Create and populate the target table.\n",
    "CREATE OR REFRESH STREAMING TABLE naval_silver.customer_silver;\n",
    "\n",
    "APPLY CHANGES INTO\n",
    "  naval_silver.customer_silver\n",
    "FROM\n",
    "  stream(naval_bronze.customers_pipeline)\n",
    "KEYS\n",
    "  (customer_id)\n",
    "APPLY AS DELETE WHEN\n",
    "  operation = \"DELETE\"\n",
    "SEQUENCE BY\n",
    "  sequenceNum\n",
    "COLUMNS * EXCEPT\n",
    "  (operation, sequenceNum,_rescued_data,ingestion_date)\n",
    "STORED AS\n",
    "  SCD TYPE 2;\n",
    "\n",
    "  create materialized view naval_silver.customer_active as \n",
    "select * from naval_silver.customer_silver where `__END_AT` is null"
   ]
  }
 ],
 "metadata": {
  "application/vnd.databricks.v1+notebook": {
   "computePreferences": null,
   "dashboards": [],
   "environmentMetadata": {
    "base_environment": "",
    "environment_version": "2"
   },
   "inputWidgetPreferences": null,
   "language": "sql",
   "notebookMetadata": {},
   "notebookName": "SCD2",
   "widgets": {}
  },
  "language_info": {
   "name": "sql"
  }
 },
 "nbformat": 4,
 "nbformat_minor": 0
}
