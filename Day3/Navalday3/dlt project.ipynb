{
 "cells": [
  {
   "cell_type": "code",
   "execution_count": 0,
   "metadata": {
    "application/vnd.databricks.v1+cell": {
     "cellMetadata": {
      "byteLimit": 2048000,
      "rowLimit": 10000
     },
     "inputWidgets": {},
     "nuid": "0458248d-60ef-4a51-b996-4397325844ce",
     "showTitle": true,
     "tableResultSettingsMap": {},
     "title": "ingestion"
    }
   },
   "outputs": [],
   "source": [
    "create streaming table sales_pipeline as \n",
    "select *, current_timestamp() as ingestion_date from stream read_files(\n",
    "  's3://jpmctraining/raw/sales',\n",
    "  format => 'csv'\n",
    ");\n",
    "\n",
    "\n",
    "create streaming table product_pipeline as \n",
    "select *, current_timestamp() as ingestion_date from stream read_files(\n",
    "  's3://jpmctraining/raw/products',\n",
    "  format => 'csv'\n",
    ");\n",
    "\n",
    "create streaming table customers_pipeline as \n",
    "select *, current_timestamp() as ingestion_date from stream read_files(\n",
    "  's3://jpmctraining/raw/customers',\n",
    "  format => 'csv'\n",
    ")\n"
   ]
  },
  {
   "cell_type": "code",
   "execution_count": 0,
   "metadata": {
    "application/vnd.databricks.v1+cell": {
     "cellMetadata": {},
     "inputWidgets": {},
     "nuid": "a2926824-8092-4c1d-9993-6dbca2bfc81a",
     "showTitle": false,
     "tableResultSettingsMap": {},
     "title": ""
    }
   },
   "outputs": [],
   "source": [
    "create streaming table naval_silver.sales_silver  \n",
    "(CONSTRAINT valid_order_id EXPECT (order_id IS NOT NULL) ON VIOLATION DROP ROW) as\n",
    "select distinct * except(_rescued_data,ingestion_date) from stream naval_bronze.sales_pipeline"
   ]
  },
  {
   "cell_type": "code",
   "execution_count": 0,
   "metadata": {
    "application/vnd.databricks.v1+cell": {
     "cellMetadata": {},
     "inputWidgets": {},
     "nuid": "bcd36f28-a1be-4acd-85b9-f1f0309679fb",
     "showTitle": false,
     "tableResultSettingsMap": {},
     "title": ""
    }
   },
   "outputs": [],
   "source": [
    "-- Create and populate the target table.\n",
    "CREATE OR REFRESH STREAMING TABLE naval_silver.product_silver;\n",
    "\n",
    "APPLY CHANGES INTO\n",
    "  naval_silver.product_silver\n",
    "FROM\n",
    "  stream(naval_bronze.product_pipeline)\n",
    "KEYS\n",
    "  (product_id)\n",
    "APPLY AS DELETE WHEN\n",
    "  operation = \"DELETE\"\n",
    "SEQUENCE BY\n",
    "  seqNum\n",
    "COLUMNS * EXCEPT\n",
    "  (operation, seqNum,_rescued_data,ingestion_date)\n",
    "STORED AS\n",
    "  SCD TYPE 1;"
   ]
  },
  {
   "cell_type": "code",
   "execution_count": 0,
   "metadata": {
    "application/vnd.databricks.v1+cell": {
     "cellMetadata": {},
     "inputWidgets": {},
     "nuid": "45bf0741-f343-4478-a3e7-39172d2748e5",
     "showTitle": false,
     "tableResultSettingsMap": {},
     "title": ""
    }
   },
   "outputs": [],
   "source": [
    "-- Create and populate the target table.\n",
    "CREATE OR REFRESH STREAMING TABLE naval_silver.customer_silver;\n",
    "\n",
    "APPLY CHANGES INTO\n",
    "  naval_silver.customer_silver\n",
    "FROM\n",
    "  stream(naval_bronze.customers_pipeline)\n",
    "KEYS\n",
    "  (customer_id)\n",
    "APPLY AS DELETE WHEN\n",
    "  operation = \"DELETE\"\n",
    "SEQUENCE BY\n",
    "  sequenceNum\n",
    "COLUMNS * EXCEPT\n",
    "  (operation, sequenceNum,_rescued_data,ingestion_date)\n",
    "STORED AS\n",
    "  SCD TYPE 2;"
   ]
  },
  {
   "cell_type": "code",
   "execution_count": 0,
   "metadata": {
    "application/vnd.databricks.v1+cell": {
     "cellMetadata": {},
     "inputWidgets": {},
     "nuid": "27e06ae0-7c15-42c5-a60d-d3a60f6013c4",
     "showTitle": false,
     "tableResultSettingsMap": {},
     "title": ""
    }
   },
   "outputs": [],
   "source": [
    "create materialized view naval_silver.customer_active as \n",
    "select * from naval_silver.customer_silver where `__END_AT` is null"
   ]
  }
 ],
 "metadata": {
  "application/vnd.databricks.v1+notebook": {
   "computePreferences": null,
   "dashboards": [],
   "environmentMetadata": {
    "base_environment": "",
    "environment_version": "2"
   },
   "inputWidgetPreferences": null,
   "language": "sql",
   "notebookMetadata": {
    "pythonIndentUnit": 4
   },
   "notebookName": "dlt project",
   "widgets": {}
  },
  "language_info": {
   "name": "sql"
  }
 },
 "nbformat": 4,
 "nbformat_minor": 0
}
