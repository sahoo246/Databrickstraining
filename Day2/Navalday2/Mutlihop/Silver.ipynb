{
 "cells": [
  {
   "cell_type": "code",
   "execution_count": 0,
   "metadata": {
    "application/vnd.databricks.v1+cell": {
     "cellMetadata": {
      "byteLimit": 2048000,
      "rowLimit": 10000
     },
     "inputWidgets": {},
     "nuid": "58abf1a8-713c-4db0-8a09-08f0650cfb5f",
     "showTitle": true,
     "tableResultSettingsMap": {},
     "title": "Sales"
    }
   },
   "outputs": [],
   "source": [
    "df=spark.table(\"dev.naval_bronze.sales\")\n",
    "\n",
    "\n",
    "df1=df.dropDuplicates().dropna().drop(\"ingestion_date\",\"path\")\n",
    "\n",
    "\n",
    "df1.write.mode(\"overwrite\").saveAsTable(\"dev.naval_silver.sales\")"
   ]
  }
 ],
 "metadata": {
  "application/vnd.databricks.v1+notebook": {
   "computePreferences": null,
   "dashboards": [],
   "environmentMetadata": {
    "base_environment": "",
    "environment_version": "2"
   },
   "inputWidgetPreferences": null,
   "language": "python",
   "notebookMetadata": {
    "mostRecentlyExecutedCommandWithImplicitDF": {
     "commandId": 6147750018440927,
     "dataframes": [
      "_sqldf"
     ]
    },
    "pythonIndentUnit": 4
   },
   "notebookName": "Silver",
   "widgets": {}
  },
  "language_info": {
   "name": "python"
  }
 },
 "nbformat": 4,
 "nbformat_minor": 0
}
