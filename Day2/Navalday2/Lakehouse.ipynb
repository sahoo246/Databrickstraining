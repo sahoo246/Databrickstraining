{
 "cells": [
  {
   "cell_type": "code",
   "execution_count": 0,
   "metadata": {
    "application/vnd.databricks.v1+cell": {
     "cellMetadata": {},
     "inputWidgets": {},
     "nuid": "11a30d38-7b64-48f4-bc27-199ce1990b4f",
     "showTitle": false,
     "tableResultSettingsMap": {},
     "title": ""
    }
   },
   "outputs": [],
   "source": [
    "DataWarehouse: Structured\n",
    "\n",
    "Data Lake: S3, ADLS\n",
    "\n",
    "Lakehouse: Data lake + Data WareHouse \n",
    "(Layer on top of your existing data lake)\n",
    "\n",
    "\n",
    "Table Formats\n",
    "delta lake \n",
    "iceberg\n",
    "hudi. \n",
    "\n"
   ]
  },
  {
   "cell_type": "code",
   "execution_count": 0,
   "metadata": {
    "application/vnd.databricks.v1+cell": {
     "cellMetadata": {},
     "inputWidgets": {},
     "nuid": "464f0961-8081-47d3-9c49-bd27d6b4c2a0",
     "showTitle": false,
     "tableResultSettingsMap": {},
     "title": ""
    }
   },
   "outputs": [],
   "source": [
    "Delta Lake / Iceberg: Helps your to build Lakehouse\n",
    "\n",
    "1. ACID transactions\n",
    "2. time travel\n",
    "3. Schema Evolution\n",
    "4. Unify batch and stream\n"
   ]
  }
 ],
 "metadata": {
  "application/vnd.databricks.v1+notebook": {
   "computePreferences": null,
   "dashboards": [],
   "environmentMetadata": {
    "base_environment": "",
    "environment_version": "2"
   },
   "inputWidgetPreferences": null,
   "language": "sql",
   "notebookMetadata": {
    "pythonIndentUnit": 4
   },
   "notebookName": "Lakehouse",
   "widgets": {}
  },
  "language_info": {
   "name": "sql"
  }
 },
 "nbformat": 4,
 "nbformat_minor": 0
}
